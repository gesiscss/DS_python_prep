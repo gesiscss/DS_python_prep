{
 "cells": [
  {
   "cell_type": "markdown",
   "metadata": {},
   "source": [
    "If Statements\n",
    "===\n",
    "By allowing you to respond selectively to different situations and conditions, if statements open up whole new possibilities for your programs. In this section, you will learn how to test for certain conditions, and then respond in appropriate ways to those conditions."
   ]
  },
  {
   "cell_type": "markdown",
   "metadata": {
    "toc": "true"
   },
   "source": [
    "# Table of Contents\n",
    " <p><div class=\"lev1 toc-item\"><a href=\"#If-Statements\" data-toc-modified-id=\"If-Statements-1\"><span class=\"toc-item-num\">1&nbsp;&nbsp;</span>If Statements</a></div><div class=\"lev1 toc-item\"><a href=\"#What-is-an-if-statement?\" data-toc-modified-id=\"What-is-an-if-statement?-2\"><span class=\"toc-item-num\">2&nbsp;&nbsp;</span>What is an <em>if</em> statement?</a></div><div class=\"lev2 toc-item\"><a href=\"#Example\" data-toc-modified-id=\"Example-2.1\"><span class=\"toc-item-num\">2.1&nbsp;&nbsp;</span>Example</a></div><div class=\"lev4 toc-item\"><a href=\"#What-happens-in-this-program?\" data-toc-modified-id=\"What-happens-in-this-program?-2.1.0.1\"><span class=\"toc-item-num\">2.1.0.1&nbsp;&nbsp;</span>What happens in this program?</a></div><div class=\"lev1 toc-item\"><a href=\"#The-if-elif...else-chain\" data-toc-modified-id=\"The-if-elif...else-chain-3\"><span class=\"toc-item-num\">3&nbsp;&nbsp;</span>The if-elif...else chain</a></div><div class=\"lev2 toc-item\"><a href=\"#Simple-if-statements\" data-toc-modified-id=\"Simple-if-statements-3.1\"><span class=\"toc-item-num\">3.1&nbsp;&nbsp;</span>Simple if statements</a></div><div class=\"lev2 toc-item\"><a href=\"#if-else-statements\" data-toc-modified-id=\"if-else-statements-3.2\"><span class=\"toc-item-num\">3.2&nbsp;&nbsp;</span>if-else statements</a></div><div class=\"lev2 toc-item\"><a href=\"#if-elif...else-chains\" data-toc-modified-id=\"if-elif...else-chains-3.3\"><span class=\"toc-item-num\">3.3&nbsp;&nbsp;</span>if-elif...else chains</a></div><div class=\"lev2 toc-item\"><a href=\"#Exercises\" data-toc-modified-id=\"Exercises-3.4\"><span class=\"toc-item-num\">3.4&nbsp;&nbsp;</span>Exercises</a></div><div class=\"lev4 toc-item\"><a href=\"#Three-is-a-Crowd\" data-toc-modified-id=\"Three-is-a-Crowd-3.4.0.1\"><span class=\"toc-item-num\">3.4.0.1&nbsp;&nbsp;</span>Three is a Crowd</a></div><div class=\"lev4 toc-item\"><a href=\"#Three-is-a-Crowd---Part-2\" data-toc-modified-id=\"Three-is-a-Crowd---Part-2-3.4.0.2\"><span class=\"toc-item-num\">3.4.0.2&nbsp;&nbsp;</span>Three is a Crowd - Part 2</a></div><div class=\"lev4 toc-item\"><a href=\"#Six-is-a-Mob\" data-toc-modified-id=\"Six-is-a-Mob-3.4.0.3\"><span class=\"toc-item-num\">3.4.0.3&nbsp;&nbsp;</span>Six is a Mob</a></div><div class=\"lev1 toc-item\"><a href=\"#More-than-one-passing-test\" data-toc-modified-id=\"More-than-one-passing-test-4\"><span class=\"toc-item-num\">4&nbsp;&nbsp;</span>More than one passing test</a></div><div class=\"lev1 toc-item\"><a href=\"#True-and-False-values\" data-toc-modified-id=\"True-and-False-values-5\"><span class=\"toc-item-num\">5&nbsp;&nbsp;</span>True and False values</a></div><div class=\"lev1 toc-item\"><a href=\"#License\" data-toc-modified-id=\"License-6\"><span class=\"toc-item-num\">6&nbsp;&nbsp;</span>License</a></div>"
   ]
  },
  {
   "cell_type": "markdown",
   "metadata": {},
   "source": [
    "What is an *if* statement?\n",
    "===\n",
    "An *if* statement tests for a condition, and then responds to that condition. If the condition is true, then whatever action is listed next gets carried out. You can test for multiple conditions at the same time, and respond appropriately to each condition.\n",
    "\n",
    "Example\n",
    "---\n",
    "Here is an example that shows a number of the desserts I like. It lists those desserts, but lets you know which one is my favorite."
   ]
  },
  {
   "cell_type": "code",
   "execution_count": 1,
   "metadata": {},
   "outputs": [
    {
     "name": "stdout",
     "output_type": "stream",
     "text": [
      "I like ice cream\n",
      "I like chocolate\n",
      "apple crisp is my favorite dessert!\n",
      "I like cookies\n"
     ]
    }
   ],
   "source": [
    "# A list of desserts I like.\n",
    "desserts = ['ice cream', 'chocolate', 'apple crisp', 'cookies']\n",
    "favorite_dessert = 'apple crisp'\n",
    "\n",
    "# Print the desserts out, but let everyone know my favorite dessert.\n",
    "for dessert in desserts:\n",
    "    if dessert == favorite_dessert:\n",
    "        # This dessert is my favorite, let's let everyone know!\n",
    "        print(dessert, \"is my favorite dessert!\")\n",
    "            \n",
    "    else:\n",
    "        # I like these desserts, but they are not my favorite.\n",
    "        print(\"I like\", dessert)"
   ]
  },
  {
   "cell_type": "markdown",
   "metadata": {},
   "source": [
    "#### What happens in this program?\n",
    "\n",
    "Visualize it in [Pythontutor](http://pythontutor.com/visualize.html#code=desserts%20%3D%20%5B'ice%20cream',%20'chocolate',%20'apple%20crisp',%20'cookies'%5D%0Afavorite_dessert%20%3D%20'apple%20crisp'%0A%0A%23%20Print%20the%20desserts%20out,%20but%20let%20everyone%20know%20my%20favorite%20dessert.%0Afor%20dessert%20in%20desserts%3A%0A%20%20%20%20if%20dessert%20%3D%3D%20favorite_dessert%3A%0A%20%20%20%20%20%20%20%20%23%20This%20dessert%20is%20my%20favorite,%20let's%20let%20everyone%20know!%0A%20%20%20%20%20%20%20%20print%28dessert,%20%22is%20my%20favorite%20dessert!%22%29%0A%20%20%20%20else%3A%0A%20%20%20%20%20%20%20%20%23%20I%20like%20these%20desserts,%20but%20they%20are%20not%20my%20favorite.%0A%20%20%20%20%20%20%20%20print%28%22I%20like%22,%20dessert%29&cumulative=false&curInstr=0&heapPrimitives=false&mode=display&origin=opt-frontend.js&py=3&rawInputLstJSON=%5B%5D&textReferences=false)\n",
    "\n",
    "- The program starts out with a list of desserts, and one dessert is identified as a favorite.\n",
    "- The for loop runs through all the desserts.\n",
    "- Inside the for loop, each item in the list is tested.\n",
    "    - If the current value of *dessert* is equal to the value of *favorite_dessert*, a message is printed that this is my favorite.\n",
    "    - If the current value of *dessert* is not equal to the value of *favorite_dessert*, a message is printed that I just like the dessert.\n",
    "    \n",
    "You can test as many conditions as you want in an if statement, as you will see in a little bit."
   ]
  },
  {
   "cell_type": "markdown",
   "metadata": {},
   "source": [
    "[top](#)"
   ]
  },
  {
   "cell_type": "markdown",
   "metadata": {},
   "source": [
    "The if-elif...else chain\n",
    "===\n",
    "You can test whatever series of conditions you want to, and you can test your conditions in any combination you want."
   ]
  },
  {
   "cell_type": "markdown",
   "metadata": {},
   "source": [
    "Simple if statements\n",
    "---\n",
    "The simplest test has a single **if** statement, and a single statement to execute if the condition is **True**."
   ]
  },
  {
   "cell_type": "code",
   "execution_count": 13,
   "metadata": {},
   "outputs": [
    {
     "name": "stdout",
     "output_type": "stream",
     "text": [
      "Wow, we have a lot of dogs here!\n"
     ]
    }
   ],
   "source": [
    "dogs = ['willie', 'hootz', 'peso', 'juno']\n",
    "\n",
    "if len(dogs) > 3:\n",
    "    print(\"Wow, we have a lot of dogs here!\")"
   ]
  },
  {
   "cell_type": "markdown",
   "metadata": {},
   "source": [
    "In this situation, nothing happens if the test does not pass."
   ]
  },
  {
   "cell_type": "code",
   "execution_count": 14,
   "metadata": {},
   "outputs": [],
   "source": [
    "dogs = ['willie', 'hootz']\n",
    "\n",
    "if len(dogs) > 3:\n",
    "    print(\"Wow, we have a lot of dogs here!\")"
   ]
  },
  {
   "cell_type": "markdown",
   "metadata": {},
   "source": [
    "Notice that there are no errors. The condition `len(dogs) > 3` evaluates to False, and the program moves on to any lines after the **if** block."
   ]
  },
  {
   "cell_type": "markdown",
   "metadata": {},
   "source": [
    "if-else statements\n",
    "---\n",
    "Many times you will want to respond in two possible ways to a test. If the test evaluates to **True**, you will want to do one thing. If the test evaluates to **False**, you will want to do something else. The **if-else** structure lets you do that easily. Here's what it looks like:"
   ]
  },
  {
   "cell_type": "code",
   "execution_count": 15,
   "metadata": {},
   "outputs": [
    {
     "name": "stdout",
     "output_type": "stream",
     "text": [
      "Wow, we have a lot of dogs here!\n"
     ]
    }
   ],
   "source": [
    "dogs = ['willie', 'hootz', 'peso', 'juno']\n",
    "\n",
    "if len(dogs) > 3:\n",
    "    print(\"Wow, we have a lot of dogs here!\")\n",
    "else:\n",
    "    print(\"Okay, this is a reasonable number of dogs.\")"
   ]
  },
  {
   "cell_type": "markdown",
   "metadata": {},
   "source": [
    "Our results have not changed in this case, because if the test evaluates to **True** only the statements under the **if** statement are executed. The statements under **else** area only executed if the test fails:"
   ]
  },
  {
   "cell_type": "code",
   "execution_count": 16,
   "metadata": {},
   "outputs": [
    {
     "name": "stdout",
     "output_type": "stream",
     "text": [
      "Okay, this is a reasonable number of dogs.\n"
     ]
    }
   ],
   "source": [
    "dogs = ['willie', 'hootz']\n",
    "\n",
    "if len(dogs) > 3:\n",
    "    print(\"Wow, we have a lot of dogs here!\")\n",
    "else:\n",
    "    print(\"Okay, this is a reasonable number of dogs.\")"
   ]
  },
  {
   "cell_type": "markdown",
   "metadata": {},
   "source": [
    "The test evaluated to **False**, so only the statement under `else` is run."
   ]
  },
  {
   "cell_type": "markdown",
   "metadata": {},
   "source": [
    "if-elif...else chains\n",
    "---\n",
    "Many times, you will want to test a series of conditions, rather than just an either-or situation. You can do this with a series of if-elif-else statements\n",
    "\n",
    "There is no limit to how many conditions you can test. You always need one if statement to start the chain, and you can never have more than one else statement. But you can have as many elif statements as you want."
   ]
  },
  {
   "cell_type": "code",
   "execution_count": 17,
   "metadata": {},
   "outputs": [
    {
     "name": "stdout",
     "output_type": "stream",
     "text": [
      "Holy mackerel, we might as well start a dog hostel!\n"
     ]
    }
   ],
   "source": [
    "dogs = ['willie', 'hootz', 'peso', 'monty', 'juno', 'turkey']\n",
    "\n",
    "if len(dogs) >= 5:\n",
    "    print(\"Holy mackerel, we might as well start a dog hostel!\")\n",
    "elif len(dogs) >= 3:\n",
    "    print(\"Wow, we have a lot of dogs here!\")\n",
    "else:\n",
    "    print(\"Okay, this is a reasonable number of dogs.\")"
   ]
  },
  {
   "cell_type": "markdown",
   "metadata": {},
   "source": [
    "It is important to note that in situations like this, only the first test is evaluated. In an if-elif-else chain, once a test passes the rest of the conditions are ignored."
   ]
  },
  {
   "cell_type": "code",
   "execution_count": 18,
   "metadata": {},
   "outputs": [
    {
     "name": "stdout",
     "output_type": "stream",
     "text": [
      "Wow, we have a lot of dogs here!\n"
     ]
    }
   ],
   "source": [
    "\n",
    "dogs = ['willie', 'hootz', 'peso', 'monty']\n",
    "\n",
    "if len(dogs) >= 5:\n",
    "    print(\"Holy mackerel, we might as well start a dog hostel!\")\n",
    "elif len(dogs) >= 3:\n",
    "    print(\"Wow, we have a lot of dogs here!\")\n",
    "else:\n",
    "    print(\"Okay, this is a reasonable number of dogs.\")"
   ]
  },
  {
   "cell_type": "markdown",
   "metadata": {},
   "source": [
    "The first test failed, so Python evaluated the second test. That test passed, so the statement corresponding to `len(dogs) >= 3` is executed."
   ]
  },
  {
   "cell_type": "code",
   "execution_count": 19,
   "metadata": {},
   "outputs": [
    {
     "name": "stdout",
     "output_type": "stream",
     "text": [
      "Okay, this is a reasonable number of dogs.\n"
     ]
    }
   ],
   "source": [
    "\n",
    "dogs = ['willie', 'hootz']\n",
    "\n",
    "if len(dogs) >= 5:\n",
    "    print(\"Holy mackerel, we might as well start a dog hostel!\")\n",
    "elif len(dogs) >= 3:\n",
    "    print(\"Wow, we have a lot of dogs here!\")\n",
    "else:\n",
    "    print(\"Okay, this is a reasonable number of dogs.\")"
   ]
  },
  {
   "cell_type": "markdown",
   "metadata": {},
   "source": [
    "In this situation, the first two tests fail, so the statement in the else clause is executed. Note that this statement would be executed even if there are no dogs at all:"
   ]
  },
  {
   "cell_type": "code",
   "execution_count": 20,
   "metadata": {},
   "outputs": [
    {
     "name": "stdout",
     "output_type": "stream",
     "text": [
      "Okay, this is a reasonable number of dogs.\n"
     ]
    }
   ],
   "source": [
    "\n",
    "dogs = []\n",
    "\n",
    "if len(dogs) >= 5:\n",
    "    print(\"Holy mackerel, we might as well start a dog hostel!\")\n",
    "elif len(dogs) >= 3:\n",
    "    print(\"Wow, we have a lot of dogs here!\")\n",
    "else:\n",
    "    print(\"Okay, this is a reasonable number of dogs.\")"
   ]
  },
  {
   "cell_type": "markdown",
   "metadata": {},
   "source": [
    "Note that you don't have to take any action at all when you start a series of if statements. You could simply do nothing in the situation that there are no dogs by replacing the `else` clause with another `elif` clause:"
   ]
  },
  {
   "cell_type": "code",
   "execution_count": 21,
   "metadata": {},
   "outputs": [],
   "source": [
    "dogs = []\n",
    "\n",
    "if len(dogs) >= 5:\n",
    "    print(\"Holy mackerel, we might as well start a dog hostel!\")\n",
    "elif len(dogs) >= 3:\n",
    "    print(\"Wow, we have a lot of dogs here!\")\n",
    "elif len(dogs) >= 1:\n",
    "    print(\"Okay, this is a reasonable number of dogs.\")"
   ]
  },
  {
   "cell_type": "markdown",
   "metadata": {},
   "source": [
    "In this case, we only print a message if there is at least one dog present. Of course, you could add a new `else` clause to respond to the situation in which there are no dogs at all:"
   ]
  },
  {
   "cell_type": "code",
   "execution_count": 22,
   "metadata": {},
   "outputs": [
    {
     "name": "stdout",
     "output_type": "stream",
     "text": [
      "I wish we had a dog here.\n"
     ]
    }
   ],
   "source": [
    "dogs = []\n",
    "\n",
    "if len(dogs) >= 5:\n",
    "    print(\"Holy mackerel, we might as well start a dog hostel!\")\n",
    "elif len(dogs) >= 3:\n",
    "    print(\"Wow, we have a lot of dogs here!\")\n",
    "elif len(dogs) >= 1:\n",
    "    print(\"Okay, this is a reasonable number of dogs.\")\n",
    "else:\n",
    "    print(\"I wish we had a dog here.\")"
   ]
  },
  {
   "cell_type": "markdown",
   "metadata": {},
   "source": [
    "As you can see, the if-elif-else chain lets you respond in very specific ways to any given situation."
   ]
  },
  {
   "cell_type": "markdown",
   "metadata": {},
   "source": [
    "<a id=\"Exercises-elif\"></a>\n",
    "Exercises\n",
    "---\n",
    "#### Three is a Crowd\n",
    "- Make a list of names that includes at least four people.\n",
    "- Write an if test that prints a message about the room being crowded, if there are more than three people in your list.\n",
    "- Modify your list so that there are only two people in it. Use one of the methods for removing people from the list, don't just redefine the list.\n",
    "- Run your if test again. There should be no output this time, because there are less than three people in the list.\n",
    "\n",
    "\n",
    "#### Three is a Crowd - Part 2\n",
    "- Add an `else` statement to your if tests. If the `else` statement is run, have it print a message that the room is not very crowded.\n",
    "\n",
    "#### Six is a Mob\n",
    "- Add some names to your list, so that there are at least six people in the list.\n",
    "- Modify your tests so that\n",
    "    - If there are more than 5 people, a message is printed about there being a mob in the room.\n",
    "    - If there are 3-5 people, a message is printed about the room being crowded.\n",
    "    - If there are 1 or 2 people, a message is printed about the room not being crowded.\n",
    "    - If there are no people in the room, a message is printed abou the room being empty."
   ]
  },
  {
   "cell_type": "markdown",
   "metadata": {},
   "source": [
    "[top](#)"
   ]
  },
  {
   "cell_type": "markdown",
   "metadata": {},
   "source": [
    "More than one passing test\n",
    "===\n",
    "In all of the examples we have seen so far, only one test can pass. As soon as the first test passes, the rest of the tests are ignored. This is really good, because it allows our code to run more efficiently. Many times only one condition can be true, so testing every condition after one passes would be meaningless.\n",
    "\n",
    "There are situations in which you want to run a series of tests, where every single test runs. These are situations where any or all of the tests could pass, and you want to respond to each passing test. Consider the following example, where we want to greet each dog that is present:"
   ]
  },
  {
   "cell_type": "code",
   "execution_count": 23,
   "metadata": {},
   "outputs": [
    {
     "name": "stdout",
     "output_type": "stream",
     "text": [
      "Hello, Willie!\n",
      "Hello, Hootz!\n"
     ]
    }
   ],
   "source": [
    "dogs = ['willie', 'hootz']\n",
    "\n",
    "if 'willie' in dogs:\n",
    "    print(\"Hello, Willie!\")\n",
    "if 'hootz' in dogs:\n",
    "    print(\"Hello, Hootz!\")\n",
    "if 'peso' in dogs:\n",
    "    print(\"Hello, Peso!\")\n",
    "if 'monty' in dogs:\n",
    "    print(\"Hello, Monty!\")"
   ]
  },
  {
   "cell_type": "markdown",
   "metadata": {},
   "source": [
    "If we had done this using an if-elif-else chain, only the first dog that is present would be greeted:"
   ]
  },
  {
   "cell_type": "code",
   "execution_count": 24,
   "metadata": {},
   "outputs": [
    {
     "name": "stdout",
     "output_type": "stream",
     "text": [
      "Hello, Willie!\n"
     ]
    }
   ],
   "source": [
    "\n",
    "dogs = ['willie', 'hootz']\n",
    "\n",
    "if 'willie' in dogs:\n",
    "    print(\"Hello, Willie!\")\n",
    "elif 'hootz' in dogs:\n",
    "    print(\"Hello, Hootz!\")\n",
    "elif 'peso' in dogs:\n",
    "    print(\"Hello, Peso!\")\n",
    "elif 'monty' in dogs:\n",
    "    print(\"Hello, Monty!\")"
   ]
  },
  {
   "cell_type": "markdown",
   "metadata": {},
   "source": [
    "Of course, this could be written much more cleanly using lists and for loops. See if you can follow this code."
   ]
  },
  {
   "cell_type": "code",
   "execution_count": 25,
   "metadata": {},
   "outputs": [
    {
     "name": "stdout",
     "output_type": "stream",
     "text": [
      "Hello, Willie\n",
      "Hello, Hootz\n"
     ]
    }
   ],
   "source": [
    "dogs_we_know = ['willie', 'hootz', 'peso', 'monty', 'juno', 'turkey']\n",
    "dogs_present = ['willie', 'hootz']\n",
    "\n",
    "# Go through all the dogs that are present, and greet the dogs we know.\n",
    "for dog in dogs_present:\n",
    "    if dog in dogs_we_know:\n",
    "        print(\"Hello, \" + dog.title())"
   ]
  },
  {
   "cell_type": "markdown",
   "metadata": {},
   "source": [
    "This is the kind of code you should be aiming to write. It is fine to come up with code that is less efficient at first. When you notice yourself writing the same kind of code repeatedly in one program, look to see if you can use a loop or a function to make your code more efficient."
   ]
  },
  {
   "cell_type": "markdown",
   "metadata": {},
   "source": [
    "[top](#)"
   ]
  },
  {
   "cell_type": "markdown",
   "metadata": {},
   "source": [
    "True and False values\n",
    "===\n",
    "Every value can be evaluated as True or False. The general rule is that any non-zero or non-empty value will evaluate to True. If you are ever unsure, you can open a Python terminal and write two lines to find out if the value you are considering is True or False. Take a look at the following examples, keep them in mind, and test any value you are curious about. I am using a slightly longer test just to make sure something gets printed each time."
   ]
  },
  {
   "cell_type": "code",
   "execution_count": 26,
   "metadata": {},
   "outputs": [
    {
     "name": "stdout",
     "output_type": "stream",
     "text": [
      "This evaluates to False.\n"
     ]
    }
   ],
   "source": [
    "if 0:\n",
    "    print(\"This evaluates to True.\")\n",
    "else:\n",
    "    print(\"This evaluates to False.\")"
   ]
  },
  {
   "cell_type": "code",
   "execution_count": 27,
   "metadata": {},
   "outputs": [
    {
     "name": "stdout",
     "output_type": "stream",
     "text": [
      "This evaluates to True.\n"
     ]
    }
   ],
   "source": [
    "if 1:\n",
    "    print(\"This evaluates to True.\")\n",
    "else:\n",
    "    print(\"This evaluates to False.\")"
   ]
  },
  {
   "cell_type": "code",
   "execution_count": 28,
   "metadata": {},
   "outputs": [
    {
     "name": "stdout",
     "output_type": "stream",
     "text": [
      "This evaluates to True.\n"
     ]
    }
   ],
   "source": [
    "# Arbitrary non-zero numbers evaluate to True.\n",
    "if 1253756:\n",
    "    print(\"This evaluates to True.\")\n",
    "else:\n",
    "    print(\"This evaluates to False.\")"
   ]
  },
  {
   "cell_type": "code",
   "execution_count": 29,
   "metadata": {},
   "outputs": [
    {
     "name": "stdout",
     "output_type": "stream",
     "text": [
      "This evaluates to True.\n"
     ]
    }
   ],
   "source": [
    "# Negative numbers are not zero, so they evaluate to True.\n",
    "if -1:\n",
    "    print(\"This evaluates to True.\")\n",
    "else:\n",
    "    print(\"This evaluates to False.\")"
   ]
  },
  {
   "cell_type": "code",
   "execution_count": 30,
   "metadata": {},
   "outputs": [
    {
     "name": "stdout",
     "output_type": "stream",
     "text": [
      "This evaluates to False.\n"
     ]
    }
   ],
   "source": [
    "# An empty string evaluates to False.\n",
    "if '':\n",
    "    print(\"This evaluates to True.\")\n",
    "else:\n",
    "    print(\"This evaluates to False.\")"
   ]
  },
  {
   "cell_type": "code",
   "execution_count": 31,
   "metadata": {},
   "outputs": [
    {
     "name": "stdout",
     "output_type": "stream",
     "text": [
      "This evaluates to True.\n"
     ]
    }
   ],
   "source": [
    "# Any other string, including a space, evaluates to True.\n",
    "if ' ':\n",
    "    print(\"This evaluates to True.\")\n",
    "else:\n",
    "    print(\"This evaluates to False.\")"
   ]
  },
  {
   "cell_type": "code",
   "execution_count": 32,
   "metadata": {},
   "outputs": [
    {
     "name": "stdout",
     "output_type": "stream",
     "text": [
      "This evaluates to True.\n"
     ]
    }
   ],
   "source": [
    "# Any other string, including a space, evaluates to True.\n",
    "if 'hello':\n",
    "    print(\"This evaluates to True.\")\n",
    "else:\n",
    "    print(\"This evaluates to False.\")"
   ]
  },
  {
   "cell_type": "code",
   "execution_count": 33,
   "metadata": {},
   "outputs": [
    {
     "name": "stdout",
     "output_type": "stream",
     "text": [
      "This evaluates to False.\n"
     ]
    }
   ],
   "source": [
    "# None is a special object in Python. It evaluates to False.\n",
    "if None:\n",
    "    print(\"This evaluates to True.\")\n",
    "else:\n",
    "    print(\"This evaluates to False.\")"
   ]
  },
  {
   "cell_type": "markdown",
   "metadata": {},
   "source": [
    "[top](#)"
   ]
  },
  {
   "cell_type": "markdown",
   "metadata": {},
   "source": [
    "# License\n",
    "\n",
    "The MIT License (MIT)\n",
    "\n",
    "Original work Copyright (c) 2013 Eric Matthes  \n",
    "Modified work Copyright 2017 Fabian Flöck, Florian Lemmerich  \n",
    "\n",
    "Permission is hereby granted, free of charge, to any person obtaining a copy of\n",
    "this software and associated documentation files (the \"Software\"), to deal in\n",
    "the Software without restriction, including without limitation the rights to\n",
    "use, copy, modify, merge, publish, distribute, sublicense, and/or sell copies of\n",
    "the Software, and to permit persons to whom the Software is furnished to do so,\n",
    "subject to the following conditions:\n",
    "\n",
    "The above copyright notice and this permission notice shall be included in all\n",
    "copies or substantial portions of the Software.\n",
    "\n",
    "THE SOFTWARE IS PROVIDED \"AS IS\", WITHOUT WARRANTY OF ANY KIND, EXPRESS OR\n",
    "IMPLIED, INCLUDING BUT NOT LIMITED TO THE WARRANTIES OF MERCHANTABILITY, FITNESS\n",
    "FOR A PARTICULAR PURPOSE AND NONINFRINGEMENT. IN NO EVENT SHALL THE AUTHORS OR\n",
    "COPYRIGHT HOLDERS BE LIABLE FOR ANY CLAIM, DAMAGES OR OTHER LIABILITY, WHETHER\n",
    "IN AN ACTION OF CONTRACT, TORT OR OTHERWISE, ARISING FROM, OUT OF OR IN\n",
    "CONNECTION WITH THE SOFTWARE OR THE USE OR OTHER DEALINGS IN THE SOFTWARE."
   ]
  },
  {
   "cell_type": "code",
   "execution_count": null,
   "metadata": {
    "collapsed": true
   },
   "outputs": [],
   "source": []
  },
  {
   "cell_type": "markdown",
   "metadata": {},
   "source": [
    "This lecture is adapted from the great 'Introduction to Python' course from Eric Matthes (http://introtopython.org/) by Fabian Flöck and Florian Lemmerich and, like the original, is available under a [MIT license](#License). "
   ]
  }
 ],
 "metadata": {
  "kernelspec": {
   "display_name": "Python 3",
   "language": "python",
   "name": "python3"
  },
  "language_info": {
   "codemirror_mode": {
    "name": "ipython",
    "version": 3
   },
   "file_extension": ".py",
   "mimetype": "text/x-python",
   "name": "python",
   "nbconvert_exporter": "python",
   "pygments_lexer": "ipython3",
   "version": "3.7.3"
  },
  "nav_menu": {},
  "toc": {
   "navigate_menu": true,
   "number_sections": true,
   "sideBar": true,
   "threshold": 4,
   "toc_cell": true,
   "toc_section_display": "block",
   "toc_window_display": true
  }
 },
 "nbformat": 4,
 "nbformat_minor": 2
}
